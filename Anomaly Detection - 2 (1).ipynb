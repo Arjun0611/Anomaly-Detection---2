{
 "cells": [
  {
   "cell_type": "code",
   "execution_count": 1,
   "id": "6e22909d-eac4-4928-bd28-e3044d355360",
   "metadata": {},
   "outputs": [],
   "source": [
    "# Q1.\n",
    "\n",
    "# Reducing Dimensionality: Feature selection helps in reducing the dimensionality of the data.\n",
    "# Enhancing Model Performance: It improves the performance of anomaly detection models by focusing on relevant features.\n",
    "# Noise Reduction: Feature selection reduces noise and irrelevant information in the data.\n",
    "# Improving Interpretability: It leads to more interpretable anomaly detection models.\n",
    "# Speeding up Computation: Feature selection speeds up computation time, especially for large datasets."
   ]
  },
  {
   "cell_type": "code",
   "execution_count": 2,
   "id": "a48501ff-63a1-43b0-b170-be9f1cfdd23d",
   "metadata": {},
   "outputs": [],
   "source": [
    "# Q2.\n",
    "\n",
    "# Precision and Recall: Measure the accuracy of anomaly detection by comparing true positives, false positives, and false negatives.\n",
    "# F1 Score: Harmonic mean of precision and recall, provides a balanced measure of performance.\n",
    "# Area under the ROC Curve (AUC-ROC): Measures the ability of the model to distinguish between normal and anomalous instances.\n",
    "# Area under the precision-recall curve (AUC-PR): Similar to AUC-ROC but focuses on precision and recall.\n",
    "# Confusion Matrix: Tabulates true positives, true negatives, false positives, and false negatives to assess model performance."
   ]
  },
  {
   "cell_type": "code",
   "execution_count": 3,
   "id": "a50283fe-f228-4ba1-a6ed-d0d9a23763ab",
   "metadata": {},
   "outputs": [],
   "source": [
    "# Q3.\n",
    "\n",
    "# DBSCAN groups together closely packed points based on epsilon and minimum points.\n",
    "# It starts by selecting a point and identifies nearby points within eps distance.\n",
    "# If nearby points exceed minPts, it forms a cluster and expands it recursively.\n",
    "# Points with insufficient neighbours are labeled as noise or outliers."
   ]
  },
  {
   "cell_type": "code",
   "execution_count": 4,
   "id": "69475247-f6a8-4f79-8bbe-32b6a8dc15a5",
   "metadata": {},
   "outputs": [],
   "source": [
    "# Q4.\n",
    "\n",
    "# The epsilon parameter determines the maximum distance between points for them to be considered neighbors.\n",
    "# A smaller epsilon can lead to tighter clusters and potentially more anomalies being labeled as noise.\n",
    "# COnversely, a larger epsilon may merge multiple clusters into one, potentially masking anomalies within the clusters."
   ]
  },
  {
   "cell_type": "code",
   "execution_count": 5,
   "id": "a43f8430-eb5f-456b-9400-880f55320925",
   "metadata": {},
   "outputs": [],
   "source": [
    "# Q5.\n",
    "\n",
    "# Core points: Points with at least the minimum number of points within the epsilon neighborhood.\n",
    "# Border points: Points within the epsilon neighborhood of a core point but don't have enough neighbors to be considered core themselves.\n",
    "# Noise points: Points that are neither core nor border points and are often considered anomalies.\n",
    "# Core points help identify dense regions, while border points lie on the fringes of these regions.\n",
    "# Noise points, being outliers, are crucial for anomaly detection as they represent deviations from the norm."
   ]
  },
  {
   "cell_type": "code",
   "execution_count": 6,
   "id": "71461eb6-104f-4365-9bfe-b2e17456e57c",
   "metadata": {},
   "outputs": [],
   "source": [
    "# Q6.\n",
    "\n",
    "# DBSCAN detects anomalies by identifying noise points that don't belong to any cluster.\n",
    "# Key parameters:\n",
    "    # Epsilon: Determines the size of the neighborhood for point density estimation.\n",
    "    # Minimum points: Minimum number of points required to form a dense region (core point).\n",
    "# Points that do not meet the density criteria are considered anomalies."
   ]
  },
  {
   "cell_type": "code",
   "execution_count": 7,
   "id": "ff1a59db-0bad-461e-896f-163d9499cf0d",
   "metadata": {},
   "outputs": [],
   "source": [
    "# Q7.\n",
    "\n",
    "# make_circles genereates synthetic dataset with concentric circles.\n",
    "# It is primarily used for testing clustering and classification algorithms in non-linear scenarios.\n",
    "# Useful for evaluating algorithms' ability to handle complex, non-linear data distributions."
   ]
  },
  {
   "cell_type": "code",
   "execution_count": 8,
   "id": "f7381203-0c50-40f8-9767-9d904b126203",
   "metadata": {},
   "outputs": [],
   "source": [
    "# Q8.\n",
    "\n",
    "# Local outliers are anomalies that deviate significantly from their local neighborhood but may be normal in the overall dataset.\n",
    "# Global outliers, on the other hand, are anomalies that deviate significantly from the enitre dataset and are considered unusual globally.\n",
    "# The main difference lies in their deviation context: local outliers are anomalous within a specific local region, while global outliers stand out across the entire dataset."
   ]
  },
  {
   "cell_type": "code",
   "execution_count": 9,
   "id": "98ab5dec-b820-467d-b5c6-c4c8c648ecff",
   "metadata": {},
   "outputs": [],
   "source": [
    "# Q9.\n",
    "\n",
    "# The Local Outlier Factor algorithm detects local outliers by comparing the density of data points in their neighborhoods with the densities of their neighbors.\n",
    "# It assigns an anomaly score to each data point based on its deviation from the local density of its neighbors.\n",
    "# Points with significantly lower densities compared to their neighbors are considered local outliers."
   ]
  },
  {
   "cell_type": "code",
   "execution_count": 10,
   "id": "805d2f06-1051-47d3-966c-e4a522556d01",
   "metadata": {},
   "outputs": [],
   "source": [
    "# Q10.\n",
    "\n",
    "# The isolation forest algorithm detects global outliers by isolating them in a decision tree structure.\n",
    "# It randomly selects a feature and splits the dataset along that feature's range until each data point is isolated in its own leaf node.\n",
    "# Data points that require fewer splits to isolate are considered global outliers."
   ]
  },
  {
   "cell_type": "code",
   "execution_count": 12,
   "id": "6c85473c-0595-446f-8f1f-e1ff41c16fa7",
   "metadata": {},
   "outputs": [],
   "source": [
    "# Q11.\n",
    "\n",
    "# Local outlier detection is more appropriate in scenarios where anomalies are expected to occur in localized regions within the dataset.\n",
    "# For example, in fraud detection, where fraudulent activities may occur in specific geographic locations or among certain groups of individuals.\n",
    "# Global outlier detection, on the other hand, is suitable for identifying anomalies that deviate significantly from the overall distribution of the data.\n",
    "# For instance, in network intrusion detection, where rare and unusual patterns of network traffic may indicate potential security breaches across the entire network."
   ]
  },
  {
   "cell_type": "code",
   "execution_count": null,
   "id": "36f96069-e2d2-4451-a946-81f67a94b268",
   "metadata": {},
   "outputs": [],
   "source": []
  },
  {
   "cell_type": "code",
   "execution_count": null,
   "id": "ea94e31a-b51f-48e2-b832-70d48ff2a722",
   "metadata": {},
   "outputs": [],
   "source": []
  },
  {
   "cell_type": "raw",
   "id": "eeb083e9-76ad-44ac-baee-a85c713f98a6",
   "metadata": {},
   "source": []
  }
 ],
 "metadata": {
  "kernelspec": {
   "display_name": "Python 3 (ipykernel)",
   "language": "python",
   "name": "python3"
  },
  "language_info": {
   "codemirror_mode": {
    "name": "ipython",
    "version": 3
   },
   "file_extension": ".py",
   "mimetype": "text/x-python",
   "name": "python",
   "nbconvert_exporter": "python",
   "pygments_lexer": "ipython3",
   "version": "3.10.8"
  }
 },
 "nbformat": 4,
 "nbformat_minor": 5
}
